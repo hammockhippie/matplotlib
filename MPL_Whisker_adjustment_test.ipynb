{
  "nbformat": 4,
  "nbformat_minor": 0,
  "metadata": {
    "colab": {
      "name": "MPL Whisker adjustment test",
      "provenance": [],
      "authorship_tag": "ABX9TyNLLO/riwcOr+RpCq5Xl6YL"
    },
    "kernelspec": {
      "name": "python3",
      "display_name": "Python 3"
    }
  },
  "cells": [
    {
      "cell_type": "code",
      "metadata": {
        "id": "DDIdCaMmUBzp",
        "colab_type": "code",
        "outputId": "452e100f-9819-4565-8354-1641852c8421",
        "colab": {
          "base_uri": "https://localhost:8080/",
          "height": 51
        }
      },
      "source": [
        "import pandas as pd\n",
        "import numpy as np\n",
        "import matplotlib.cbook as cbook\n",
        "\n",
        "new_list = [0.0471054, 0.0262474, 0.12289739999999999, 0.1379574, 0.1473904, \n",
        "            0.24473540000000002, 0.2560634, 0.0769904, 0.1388934, 0.0989914, \n",
        "            0.10793639999999999]\n",
        "x = np.asarray(df['col2'])\n",
        "original = cbook.boxplot_stats(x)\n",
        "\n",
        "whis=1.5\n",
        "stats = {}\n",
        "stats['mean'] = np.mean(x)\n",
        "q1, med, q3 = np.percentile(x, [25, 50, 75])\n",
        "stats['iqr'] = q3 - q1\n",
        "\n",
        "\n",
        "loval = q1 - whis * stats['iqr']\n",
        "hival = q3 + whis * stats['iqr']\n",
        "\n",
        "\n",
        "\n",
        "if hival >= np.max(x):\n",
        "  stats['whishi'] = np.max(x)\n",
        "else:\n",
        "  stats['whishi'] = hival\n",
        "\n",
        "if loval <= np.min(x):\n",
        "  stats['whislo'] = np.min(x)\n",
        "else:\n",
        "  stats['whislo'] = loval\n",
        "\n",
        "stats['fliers'] = np.hstack([\n",
        "                             x[x < stats['whislo']],\n",
        "                             x[x > stats['whishi']],\n",
        "                             ])\n",
        "\n",
        "stats['q1'], stats['med'], stats['q3'] = q1, med, q3\n",
        "print(\"High Whisker as outputted by cookbook: {}\".format(original[0]['whishi']))\n",
        "print(\"High Whisker adjusted: {}\".format(stats['whishi']))\n",
        "\n"
      ],
      "execution_count": 0,
      "outputs": [
        {
          "output_type": "stream",
          "text": [
            "High Whisker as outputted by cookbook: 0.1473904\n",
            "High Whisker calculated: 0.22586839999999997\n"
          ],
          "name": "stdout"
        }
      ]
    }
  ]
}